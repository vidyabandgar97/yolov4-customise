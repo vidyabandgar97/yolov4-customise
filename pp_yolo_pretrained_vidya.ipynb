{
  "nbformat": 4,
  "nbformat_minor": 0,
  "metadata": {
    "colab": {
      "name": "pp yolo pretrained_vidya.ipynb",
      "provenance": []
    },
    "kernelspec": {
      "name": "python3",
      "display_name": "Python 3"
    },
    "language_info": {
      "name": "python"
    },
    "accelerator": "GPU"
  },
  "cells": [
    {
      "cell_type": "code",
      "metadata": {
        "id": "ooH0abhLm7qA",
        "colab": {
          "base_uri": "https://localhost:8080/"
        },
        "outputId": "5fe5f8e0-f386-4e92-bcd0-d7d0ada8f4a4"
      },
      "source": [
        "%cd ..\n",
        "from google.colab import drive\n",
        "drive.mount('/content/gdrive')"
      ],
      "execution_count": 1,
      "outputs": [
        {
          "output_type": "stream",
          "text": [
            "/\n",
            "Mounted at /content/gdrive\n"
          ],
          "name": "stdout"
        }
      ]
    },
    {
      "cell_type": "code",
      "metadata": {
        "colab": {
          "base_uri": "https://localhost:8080/"
        },
        "id": "-WSa7GJzna0z",
        "outputId": "4b662fbe-c6f0-4ca6-e53a-b2d2bc45b10f"
      },
      "source": [
        "%%bash\n",
        "\n",
        "#If your machine is installed with CUDA10, please run the following command to install\n",
        "python -m pip install paddlepaddle-gpu==1.8.4.post107 -i https://mirror.baidu.com/pypi/simple\n",
        "#If your machine is a CPU, please run the following command to install\n",
        "#python -m pip install paddlepaddle==1.8.4 -i https://mirror.baidu.com/pypi/simple"
      ],
      "execution_count": 2,
      "outputs": [
        {
          "output_type": "stream",
          "text": [
            "Looking in indexes: https://mirror.baidu.com/pypi/simple\n",
            "Collecting paddlepaddle-gpu==1.8.4.post107\n",
            "  Downloading https://mirror.baidu.com/pypi/packages/c1/bd/522e59da88d7683b76bda777e5f10ef98dcdac8ed106a3f9c1abf1eb3400/paddlepaddle_gpu-1.8.4.post107-cp37-cp37m-manylinux1_x86_64.whl (406.1MB)\n",
            "Requirement already satisfied: six in /usr/local/lib/python3.7/dist-packages (from paddlepaddle-gpu==1.8.4.post107) (1.15.0)\n",
            "Requirement already satisfied: matplotlib; python_version >= \"3.6\" in /usr/local/lib/python3.7/dist-packages (from paddlepaddle-gpu==1.8.4.post107) (3.2.2)\n",
            "Requirement already satisfied: numpy>=1.12; python_version >= \"3.5\" in /usr/local/lib/python3.7/dist-packages (from paddlepaddle-gpu==1.8.4.post107) (1.19.5)\n",
            "Requirement already satisfied: gast>=0.3.3 in /usr/local/lib/python3.7/dist-packages (from paddlepaddle-gpu==1.8.4.post107) (0.4.0)\n",
            "Requirement already satisfied: requests>=2.20.0 in /usr/local/lib/python3.7/dist-packages (from paddlepaddle-gpu==1.8.4.post107) (2.23.0)\n",
            "Collecting objgraph\n",
            "  Downloading https://mirror.baidu.com/pypi/packages/a9/79/9f47706447b9ba0003c0680da4fed1d502adf410e1d953b4d1a5d3486640/objgraph-3.5.0-py2.py3-none-any.whl\n",
            "Requirement already satisfied: scipy; python_version > \"3.5\" in /usr/local/lib/python3.7/dist-packages (from paddlepaddle-gpu==1.8.4.post107) (1.4.1)\n",
            "Requirement already satisfied: graphviz in /usr/local/lib/python3.7/dist-packages (from paddlepaddle-gpu==1.8.4.post107) (0.10.1)\n",
            "Requirement already satisfied: Pillow in /usr/local/lib/python3.7/dist-packages (from paddlepaddle-gpu==1.8.4.post107) (7.1.2)\n",
            "Requirement already satisfied: pyyaml in /usr/local/lib/python3.7/dist-packages (from paddlepaddle-gpu==1.8.4.post107) (3.13)\n",
            "Requirement already satisfied: opencv-python in /usr/local/lib/python3.7/dist-packages (from paddlepaddle-gpu==1.8.4.post107) (4.1.2.30)\n",
            "Requirement already satisfied: decorator in /usr/local/lib/python3.7/dist-packages (from paddlepaddle-gpu==1.8.4.post107) (4.4.2)\n",
            "Collecting funcsigs\n",
            "  Downloading https://mirror.baidu.com/pypi/packages/69/cb/f5be453359271714c01b9bd06126eaf2e368f1fddfff30818754b5ac2328/funcsigs-1.0.2-py2.py3-none-any.whl\n",
            "Requirement already satisfied: astor in /usr/local/lib/python3.7/dist-packages (from paddlepaddle-gpu==1.8.4.post107) (0.8.1)\n",
            "Collecting rarfile\n",
            "  Downloading https://mirror.baidu.com/pypi/packages/95/f4/c92fab227c7457e3b76a4096ccb655ded9deac869849cb03afbe55dfdc1e/rarfile-4.0-py3-none-any.whl\n",
            "Requirement already satisfied: nltk; python_version >= \"3.5\" in /usr/local/lib/python3.7/dist-packages (from paddlepaddle-gpu==1.8.4.post107) (3.2.5)\n",
            "Requirement already satisfied: pathlib in /usr/local/lib/python3.7/dist-packages (from paddlepaddle-gpu==1.8.4.post107) (1.0.1)\n",
            "Requirement already satisfied: prettytable in /usr/local/lib/python3.7/dist-packages (from paddlepaddle-gpu==1.8.4.post107) (2.1.0)\n",
            "Requirement already satisfied: protobuf>=3.1.0 in /usr/local/lib/python3.7/dist-packages (from paddlepaddle-gpu==1.8.4.post107) (3.12.4)\n",
            "Requirement already satisfied: python-dateutil>=2.1 in /usr/local/lib/python3.7/dist-packages (from matplotlib; python_version >= \"3.6\"->paddlepaddle-gpu==1.8.4.post107) (2.8.1)\n",
            "Requirement already satisfied: pyparsing!=2.0.4,!=2.1.2,!=2.1.6,>=2.0.1 in /usr/local/lib/python3.7/dist-packages (from matplotlib; python_version >= \"3.6\"->paddlepaddle-gpu==1.8.4.post107) (2.4.7)\n",
            "Requirement already satisfied: kiwisolver>=1.0.1 in /usr/local/lib/python3.7/dist-packages (from matplotlib; python_version >= \"3.6\"->paddlepaddle-gpu==1.8.4.post107) (1.3.1)\n",
            "Requirement already satisfied: cycler>=0.10 in /usr/local/lib/python3.7/dist-packages (from matplotlib; python_version >= \"3.6\"->paddlepaddle-gpu==1.8.4.post107) (0.10.0)\n",
            "Requirement already satisfied: certifi>=2017.4.17 in /usr/local/lib/python3.7/dist-packages (from requests>=2.20.0->paddlepaddle-gpu==1.8.4.post107) (2021.5.30)\n",
            "Requirement already satisfied: chardet<4,>=3.0.2 in /usr/local/lib/python3.7/dist-packages (from requests>=2.20.0->paddlepaddle-gpu==1.8.4.post107) (3.0.4)\n",
            "Requirement already satisfied: idna<3,>=2.5 in /usr/local/lib/python3.7/dist-packages (from requests>=2.20.0->paddlepaddle-gpu==1.8.4.post107) (2.10)\n",
            "Requirement already satisfied: urllib3!=1.25.0,!=1.25.1,<1.26,>=1.21.1 in /usr/local/lib/python3.7/dist-packages (from requests>=2.20.0->paddlepaddle-gpu==1.8.4.post107) (1.24.3)\n",
            "Requirement already satisfied: importlib-metadata; python_version < \"3.8\" in /usr/local/lib/python3.7/dist-packages (from prettytable->paddlepaddle-gpu==1.8.4.post107) (4.5.0)\n",
            "Requirement already satisfied: wcwidth in /usr/local/lib/python3.7/dist-packages (from prettytable->paddlepaddle-gpu==1.8.4.post107) (0.2.5)\n",
            "Requirement already satisfied: setuptools in /usr/local/lib/python3.7/dist-packages (from protobuf>=3.1.0->paddlepaddle-gpu==1.8.4.post107) (57.0.0)\n",
            "Requirement already satisfied: zipp>=0.5 in /usr/local/lib/python3.7/dist-packages (from importlib-metadata; python_version < \"3.8\"->prettytable->paddlepaddle-gpu==1.8.4.post107) (3.4.1)\n",
            "Requirement already satisfied: typing-extensions>=3.6.4; python_version < \"3.8\" in /usr/local/lib/python3.7/dist-packages (from importlib-metadata; python_version < \"3.8\"->prettytable->paddlepaddle-gpu==1.8.4.post107) (3.7.4.3)\n",
            "Installing collected packages: objgraph, funcsigs, rarfile, paddlepaddle-gpu\n",
            "Successfully installed funcsigs-1.0.2 objgraph-3.5.0 paddlepaddle-gpu-1.8.4.post107 rarfile-4.0\n"
          ],
          "name": "stdout"
        },
        {
          "output_type": "stream",
          "text": [
            "WARNING: Retrying (Retry(total=4, connect=None, read=None, redirect=None, status=None)) after connection broken by 'ReadTimeoutError(\"HTTPSConnectionPool(host='mirror.baidu.com', port=443): Read timed out. (read timeout=15)\")': /pypi/simple/paddlepaddle-gpu/\n"
          ],
          "name": "stderr"
        }
      ]
    },
    {
      "cell_type": "code",
      "metadata": {
        "colab": {
          "base_uri": "https://localhost:8080/"
        },
        "id": "zcej8km2nj4U",
        "outputId": "aca19611-f6ab-4b83-9ef7-03c5f1bd7bbf"
      },
      "source": [
        "# Confirm that PaddlePaddle is installed successfully in your Python interpreter\n",
        "import paddle.fluid as fluid\n",
        "fluid.install_check.run_check()\n",
        "\n",
        "#Confirm PaddlePaddle version\n",
        "!python -c \"import paddle; print(paddle.__version__)\""
      ],
      "execution_count": 3,
      "outputs": [
        {
          "output_type": "stream",
          "text": [
            "Running Verify Fluid Program ... \n",
            "Your Paddle Fluid works well on SINGLE GPU or CPU.\n",
            "Your Paddle Fluid works well on MUTIPLE GPU or CPU.\n",
            "Your Paddle Fluid is installed successfully! Let's start deep Learning with Paddle Fluid now\n",
            "1.8.4\n"
          ],
          "name": "stdout"
        }
      ]
    },
    {
      "cell_type": "code",
      "metadata": {
        "colab": {
          "base_uri": "https://localhost:8080/"
        },
        "id": "AISblJSMG7JZ",
        "outputId": "341290e8-0f37-4ef1-8f9a-91d5f887b078"
      },
      "source": [
        "!git clone https://github.com/PaddlePaddle/PaddleDetection.git"
      ],
      "execution_count": 4,
      "outputs": [
        {
          "output_type": "stream",
          "text": [
            "Cloning into 'PaddleDetection'...\n",
            "remote: Enumerating objects: 14312, done.\u001b[K\n",
            "remote: Counting objects: 100% (1258/1258), done.\u001b[K\n",
            "remote: Compressing objects: 100% (662/662), done.\u001b[K\n",
            "remote: Total 14312 (delta 747), reused 981 (delta 595), pack-reused 13054\u001b[K\n",
            "Receiving objects: 100% (14312/14312), 133.63 MiB | 43.68 MiB/s, done.\n",
            "Resolving deltas: 100% (10076/10076), done.\n"
          ],
          "name": "stdout"
        }
      ]
    },
    {
      "cell_type": "code",
      "metadata": {
        "colab": {
          "base_uri": "https://localhost:8080/"
        },
        "id": "Sa83dJDcG7MP",
        "outputId": "b1fb469c-3363-48c1-edd7-a36a59a65c10"
      },
      "source": [
        "%cd /PaddleDetection/"
      ],
      "execution_count": 5,
      "outputs": [
        {
          "output_type": "stream",
          "text": [
            "/PaddleDetection\n"
          ],
          "name": "stdout"
        }
      ]
    },
    {
      "cell_type": "code",
      "metadata": {
        "colab": {
          "base_uri": "https://localhost:8080/"
        },
        "id": "5uxdgx-NHyHK",
        "outputId": "1010586e-2ef5-402d-ae67-410257c4e9ed"
      },
      "source": [
        "%cd /PaddleDetection/ppdet/modeling/tests/"
      ],
      "execution_count": 6,
      "outputs": [
        {
          "output_type": "stream",
          "text": [
            "/PaddleDetection/ppdet/modeling/tests\n"
          ],
          "name": "stdout"
        }
      ]
    },
    {
      "cell_type": "code",
      "metadata": {
        "colab": {
          "base_uri": "https://localhost:8080/"
        },
        "id": "9Hw9bAOUG7PP",
        "outputId": "05760d2e-c3f1-4512-9e51-a2fbf7a8ff53"
      },
      "source": [
        "!python /test_architectures.py"
      ],
      "execution_count": 10,
      "outputs": [
        {
          "output_type": "stream",
          "text": [
            "python3: can't open file '/test_architectures.py': [Errno 2] No such file or directory\n"
          ],
          "name": "stdout"
        }
      ]
    },
    {
      "cell_type": "code",
      "metadata": {
        "id": "ElIImIGrG7Uj",
        "colab": {
          "base_uri": "https://localhost:8080/"
        },
        "outputId": "3e16cf9b-94f8-45ce-ea63-3563da66bfda"
      },
      "source": [
        "!python /PaddleDetection/ppdet/modeling/tests/test_architectures.py"
      ],
      "execution_count": 11,
      "outputs": [
        {
          "output_type": "stream",
          "text": [
            "Traceback (most recent call last):\n",
            "  File \"/PaddleDetection/ppdet/modeling/tests/test_architectures.py\", line 20, in <module>\n",
            "    import ppdet\n",
            "ModuleNotFoundError: No module named 'ppdet'\n"
          ],
          "name": "stdout"
        }
      ]
    },
    {
      "cell_type": "code",
      "metadata": {
        "id": "U2ED7O1yG7XI"
      },
      "source": [
        ""
      ],
      "execution_count": null,
      "outputs": []
    },
    {
      "cell_type": "code",
      "metadata": {
        "id": "EV9MBkfzG7af"
      },
      "source": [
        ""
      ],
      "execution_count": null,
      "outputs": []
    }
  ]
}